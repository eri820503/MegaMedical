{
 "cells": [
  {
   "cell_type": "code",
   "execution_count": null,
   "id": "c32e3bbd",
   "metadata": {
    "scrolled": false
   },
   "outputs": [],
   "source": [
    "import megamedical\n",
    "import megamedical.src.proc_funcs as pf\n",
    "import megamedical.utils as utils\n",
    "import os\n",
    "import shutil"
   ]
  },
  {
   "cell_type": "code",
   "execution_count": null,
   "id": "d447ba8a",
   "metadata": {},
   "outputs": [],
   "source": [
    "%load_ext autoreload\n",
    "%autoreload 2"
   ]
  },
  {
   "cell_type": "code",
   "execution_count": null,
   "id": "60cf63f9",
   "metadata": {
    "scrolled": false
   },
   "outputs": [],
   "source": [
    "# pf.process_dataset(datasets=[\"T1mix\"],\n",
    "#                    subdsets=[\"ADHD200\"],\n",
    "#                    save=False,\n",
    "#                    slurm=False,\n",
    "#                    show_imgs=True,\n",
    "#                    show_hists=False,\n",
    "#                    redo_processed=True,\n",
    "#                    resolutions=[64, 128, 256],\n",
    "#                    timeout=(24*60),\n",
    "#                    mem_gb=64,\n",
    "#                    parallelize=False)"
   ]
  },
  {
   "cell_type": "code",
   "execution_count": null,
   "id": "91904316",
   "metadata": {
    "scrolled": true
   },
   "outputs": [],
   "source": [
    "# pf.generate_population_statistics(datasets=[\"MSD\"],\n",
    "#                                   subdsets=[\"Prostate\"],\n",
    "#                                   save=True,\n",
    "#                                   slurm=False,\n",
    "#                                   resolutions=[64, 128, 256],\n",
    "#                                   timeout=(24*60),\n",
    "#                                   mem_gb=64,\n",
    "#                                   redo_processed=True,\n",
    "#                                   parallelize=True)"
   ]
  },
  {
   "cell_type": "code",
   "execution_count": null,
   "id": "0df969d3",
   "metadata": {},
   "outputs": [],
   "source": [
    "# pf.generate_unique_label_files(datasets=[\"MSD\"],\n",
    "#                                subdsets=None,\n",
    "#                                save=True,\n",
    "#                                slurm=False,\n",
    "#                                resolutions=[64, 128, 256],\n",
    "#                                version=\"4.0\",\n",
    "#                                redo_processed=True,\n",
    "#                                timeout=180,\n",
    "#                                mem_gb=16,\n",
    "#                                parallelize=True)"
   ]
  },
  {
   "cell_type": "code",
   "execution_count": null,
   "id": "1fa48ccb",
   "metadata": {
    "scrolled": false
   },
   "outputs": [],
   "source": [
    "#Available steps: steps=[\"labels\",\"stats\",\"images\",\"splits\"]\n",
    "pf.process_pipeline(steps=[\"labels\", \"stats\", \"images\"],\n",
    "                    datasets=[\"Synthetic1000\"],\n",
    "                    ignore_datasets=None,\n",
    "                    ignore_subdsets=None,\n",
    "                    subdsets=None,\n",
    "                    save=True,\n",
    "                    slurm=False,\n",
    "                    redo_processed=True,\n",
    "                    resolutions=[64, 128, 256],\n",
    "                    train_split=0.7,\n",
    "                    version=\"4.0\",\n",
    "                    timeout=720,\n",
    "                    mem_gb=64,\n",
    "                    parallelize=False)"
   ]
  },
  {
   "cell_type": "code",
   "execution_count": null,
   "id": "11da830e",
   "metadata": {},
   "outputs": [],
   "source": [
    "# pf.replace_label_file(dataset=\"Feto_Plac\",\n",
    "#                        subset=\"retreived_2022_03_09\",\n",
    "#                        new_labels=[25])"
   ]
  },
  {
   "cell_type": "code",
   "execution_count": null,
   "id": "d39b8105",
   "metadata": {},
   "outputs": [],
   "source": [
    "#pf.flush_processed_datasets(\"ACDC\")"
   ]
  },
  {
   "cell_type": "code",
   "execution_count": null,
   "id": "9f106cd6",
   "metadata": {},
   "outputs": [],
   "source": [
    "# pf.check_datasets(datasets=\"all\",\n",
    "#                   subdsets=None)"
   ]
  },
  {
   "cell_type": "code",
   "execution_count": null,
   "id": "0010e4f8",
   "metadata": {},
   "outputs": [],
   "source": [
    "# pf.thunderify_datasets(datasets=[\"MSD\"],\n",
    "#                        move_datasets=False,\n",
    "#                        export_name=\"MSD-patch.tar.gz\")"
   ]
  }
 ],
 "metadata": {
  "kernelspec": {
   "display_name": "UniverSegTF",
   "language": "python",
   "name": "universegtf"
  },
  "language_info": {
   "codemirror_mode": {
    "name": "ipython",
    "version": 3
   },
   "file_extension": ".py",
   "mimetype": "text/x-python",
   "name": "python",
   "nbconvert_exporter": "python",
   "pygments_lexer": "ipython3",
   "version": "3.9.13"
  }
 },
 "nbformat": 4,
 "nbformat_minor": 5
}
